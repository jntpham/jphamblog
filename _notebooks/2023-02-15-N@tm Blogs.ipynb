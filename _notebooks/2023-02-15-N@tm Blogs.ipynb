{
 "cells": [
  {
   "cell_type": "markdown",
   "metadata": {},
   "source": [
    "---\n",
    "toc: true\n",
    "comments: true\n",
    "layout: post\n",
    "title: CSP Night at the Museum\n",
    "description: Linked to the Stuff\n",
    "courses: { csp: {week: 17} }\n",
    "type: tangibles\n",
    "---"
   ]
  },
  {
   "cell_type": "markdown",
   "metadata": {},
   "source": [
    "### Team Reflection\n",
    "\n",
    "Glows: As a team, we have taken on an ambitious project, which if we were only going for the grade in class, would have never done.\n",
    "- Got done an impressive amount of features, like photo editing and a customizable gallery for every user\n",
    "\n",
    "Grows: The team's effort was disjointed and not up to pace, as the devlopment of the frontend went much faster than the development of the backend. Plus, most of the project was reliant on a single individual, which meant if the coder was gone, the project's development would slow down.\n"
   ]
  },
  {
   "cell_type": "markdown",
   "metadata": {},
   "source": [
    "Photos of a group I interviewed with\n",
    "\n",
    "<img src= \"/home/jntpm/vscode/jphamblog/images/IMG_8794.JPG\" width =\"504\" height = \"756\">\n",
    "<img src= \"/home/jntpm/vscode/jphamblog/images/IMG_8795.JPG\" width =\"504\" height = \"756\">\n",
    "<img src= \"/home/jntpm/vscode/jphamblog/images/IMG_8796.JPG\" width =\"504\" height = \"756\">\n",
    "<img src= \"/home/jntpm/vscode/jphamblog/images/IMG_8798.JPG\" width =\"504\" height = \"756\">\n",
    "\n",
    "Photo Room Gallery:\n",
    "<img src= \"/home/jntpm/vscode/jphamblog/images/IMG_8793.JPG\" width =\"756\" height = \"504\">\n"
   ]
  },
  {
   "cell_type": "markdown",
   "metadata": {},
   "source": [
    "Event: I saw a cool turn based video game, which is very similar to many rpg games/pokemon style games out there. It is more unique than the other programs I saw, like a stock market checker or a binary guesser game.\n",
    "\n",
    "In the photo room, I saw some cool stuff like a La Jolla beach at night, and many sunset, mountain landscapes, and interesting things like a cart that is selling brooms. Many of the photos have good asthetics and differing mathematical compositions, which I found to be fascinating. "
   ]
  }
 ],
 "metadata": {
  "language_info": {
   "name": "python"
  }
 },
 "nbformat": 4,
 "nbformat_minor": 2
}
