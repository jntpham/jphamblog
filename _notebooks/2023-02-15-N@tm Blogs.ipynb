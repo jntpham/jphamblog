{
 "cells": [
  {
   "cell_type": "markdown",
   "metadata": {},
   "source": [
    "---\n",
    "toc: true\n",
    "comments: true\n",
    "layout: post\n",
    "title: CSP Night at the Museum\n",
    "description: Linked to the Stuff\n",
    "courses: { csp: {week: 17} }\n",
    "type: tangibles\n",
    "---"
   ]
  },
  {
   "cell_type": "markdown",
   "metadata": {},
   "source": [
    "### Team Reflection\n",
    "\n",
    "Glows: As a team, we have taken on an ambitious project, which if we were only going for the grade in class, would have never done.\n",
    "- Got done an impressive amount of features, like photo editing and a customizable gallery for every user\n",
    "\n",
    "Grows: The team's effort was disjointed and not up to pace, as the devlopment of the frontend went much faster than the development of the backend. Plus, most of the project was reliant on a single individual, which meant if the coder was gone, the project's development would slow down.\n"
   ]
  },
  {
   "cell_type": "markdown",
   "metadata": {},
   "source": [
    "Photos of a group I interviewed with\n",
    "\n"
   ]
  }
 ],
 "metadata": {
  "language_info": {
   "name": "python"
  }
 },
 "nbformat": 4,
 "nbformat_minor": 2
}
