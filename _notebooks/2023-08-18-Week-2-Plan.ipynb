{
 "cells": [
  {
   "cell_type": "markdown",
   "metadata": {},
   "source": [
    "---\n",
    "toc: true\n",
    "comments: true\n",
    "layout: post\n",
    "title: Week 2 Plan\n",
    "description: This is where the week 2 plan is found\n",
    "courses: { csp: {week: 2} }\n",
    "type: plans\n",
    "---"
   ]
  },
  {
   "cell_type": "markdown",
   "metadata": {},
   "source": [
    "## Week 2 Plan\n",
    "\n",
    "8/28\n",
    "\n",
    "Set up the plan page and start listing objectives for this week\n",
    "\n",
    "8/29\n",
    "\n",
    "Add link to python quiz and check its operation?"
   ]
  }
 ],
 "metadata": {
  "language_info": {
   "name": "python"
  },
  "orig_nbformat": 4
 },
 "nbformat": 4,
 "nbformat_minor": 2
}
