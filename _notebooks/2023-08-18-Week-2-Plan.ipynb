{
 "cells": [
  {
   "cell_type": "markdown",
   "metadata": {},
   "source": [
    "---\n",
    "toc: true\n",
    "comments: true\n",
    "layout: post\n",
    "title: Week 2 Plan\n",
    "description: This is where the week 2 plan is found\n",
    "courses: { csp: {week: 2} }\n",
    "type: plans\n",
    "---"
   ]
  },
  {
   "cell_type": "markdown",
   "metadata": {},
   "source": [
    "## Week 2 Plan\n",
    "\n",
    "8/28\n",
    "\n",
    "Set up the plan page and start listing objectives for this week\n",
    "\n",
    "8/29\n",
    "\n",
    "Add link to python quiz and check its operation\n",
    "\n",
    "8/30\n",
    "\n",
    "Add games to Week 2 and clean up organization issues which each game\n",
    "\n",
    "8/31\n",
    "\n",
    "Finish Python hacks"
   ]
  }
 ],
 "metadata": {
  "language_info": {
   "name": "python"
  },
  "orig_nbformat": 4
 },
 "nbformat": 4,
 "nbformat_minor": 2
}
