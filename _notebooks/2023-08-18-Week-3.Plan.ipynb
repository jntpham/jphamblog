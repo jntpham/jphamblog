{
 "cells": [
  {
   "cell_type": "markdown",
   "metadata": {},
   "source": [
    "---\n",
    "toc: true\n",
    "comments: true\n",
    "layout: post\n",
    "title: Week 3 Plan\n",
    "description: This is where the week 3 plan is found\n",
    "courses: { csp: {week: 3} }\n",
    "type: plans\n",
    "---"
   ]
  },
  {
   "cell_type": "markdown",
   "metadata": {},
   "source": [
    "## Week 3 Plan\n",
    "\n",
    "9/4\n",
    "\n",
    "Set up the plan page and start listing objectives for this week\n",
    "\n",
    "9/5\n",
    "\n",
    "Finish implemeting python quiz with all python hacks\n",
    "Look at javascript lessons and try to implement interative stuff\n",
    "\n",
    "9/6\n",
    "\n",
    "Clean up CSP page and properly format all materials and titles within\n",
    "\n",
    "9/7\n",
    "\n",
    "Check out linux\n",
    "\n",
    "9/8\n"
   ]
  }
 ],
 "metadata": {
  "language_info": {
   "name": "python"
  },
  "orig_nbformat": 4
 },
 "nbformat": 4,
 "nbformat_minor": 2
}
