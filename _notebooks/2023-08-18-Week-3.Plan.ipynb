{
 "cells": [
  {
   "cell_type": "markdown",
   "metadata": {},
   "source": [
    "---\n",
    "toc: true\n",
    "comments: true\n",
    "layout: post\n",
    "title: Week 2 Plan\n",
    "description: This is where the week 2 plan is found\n",
    "courses: { csp: {week: 2} }\n",
    "type: plans\n",
    "---"
   ]
  },
  {
   "cell_type": "markdown",
   "metadata": {},
   "source": [
    "## Week 3 Plan\n",
    "\n",
    "9/4\n",
    "\n",
    "Set up the plan page and start listing objectives for this week\n",
    "\n",
    "9/5\n",
    "\n",
    "Finish implemeting python quiz with all python hacks\n",
    "\n",
    "8/30\n",
    "\n",
    "Add games to Week 2 and clean up organization issues which each game\n",
    "\n",
    "8/31\n",
    "\n",
    "Finish Python hacks\n",
    "\n",
    "9/1\n",
    "\n",
    "Discovered that I needed to add a question checker in the Python quiz. Planning to work on it throughout next week\n",
    "Working on how to delete the CSA and CSSE pages"
   ]
  }
 ],
 "metadata": {
  "language_info": {
   "name": "python"
  },
  "orig_nbformat": 4
 },
 "nbformat": 4,
 "nbformat_minor": 2
}
