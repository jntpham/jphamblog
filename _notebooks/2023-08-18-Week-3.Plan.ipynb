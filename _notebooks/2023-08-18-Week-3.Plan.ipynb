{
 "cells": [
  {
   "cell_type": "markdown",
   "metadata": {},
   "source": [
    "---\n",
    "toc: true\n",
    "comments: true\n",
    "layout: post\n",
    "title: Week 3 Plan\n",
    "description: This is where the week 3 plan is found\n",
    "courses: { csp: {week: 3} }\n",
    "type: plans\n",
    "---"
   ]
  },
  {
   "cell_type": "markdown",
   "metadata": {},
   "source": [
    "## Week 3 Plan\n",
    "\n",
    "## Monday\n",
    "\n",
    "Set up the plan page and start listing objectives for this week\n",
    "\n",
    "## Tuesday\n",
    "\n",
    "Look at javascript lessons and import data from wiki to make a list of planes used by the US millitary\n",
    "\n",
    "## Wednesday\n",
    "\n",
    "Clean up CSP page and properly and organze all materials and titles.\n",
    "Finish implemeting python quiz with all python hacks\n",
    "\n",
    "## Thursday\n",
    "\n",
    "Check out linux shells and start implementing linux features\n",
    "Start constructing a review ticket\n",
    "\n",
    "## Friday\n",
    "\n",
    "Finish any objectives not complete from the previous days\n"
   ]
  }
 ],
 "metadata": {
  "language_info": {
   "name": "python"
  },
  "orig_nbformat": 4
 },
 "nbformat": 4,
 "nbformat_minor": 2
}
