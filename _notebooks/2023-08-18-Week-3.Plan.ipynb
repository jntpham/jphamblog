{
 "cells": [
  {
   "cell_type": "markdown",
   "metadata": {},
   "source": [
    "---\n",
    "toc: true\n",
    "comments: true\n",
    "layout: post\n",
    "title: Week 3 Plan\n",
    "description: This is where the week 3 plan is found\n",
    "courses: { csp: {week: 3} }\n",
    "type: plans\n",
    "---"
   ]
  },
  {
   "cell_type": "markdown",
   "metadata": {},
   "source": [
    "## Week 3 Plan\n",
    "\n",
    "## Monday\n",
    "\n",
    "Set up the plan page and start listing objectives for this week\n",
    "\n",
    "## Tuesday\n",
    "\n",
    "Finish implemeting python quiz with all python hacks\n",
    "Look at javascript lessons and try to implement interactive javascript\n",
    "\n",
    "## Wednesday\n",
    "\n",
    "Clean up CSP page and properly format all materials and titles within\n",
    "\n",
    "## Thursday\n",
    "\n",
    "Check out linux\n",
    "\n",
    "## Friday\n",
    "\n",
    "Finish any objectives not complete from the previous days\n"
   ]
  }
 ],
 "metadata": {
  "language_info": {
   "name": "python"
  },
  "orig_nbformat": 4
 },
 "nbformat": 4,
 "nbformat_minor": 2
}
