{
 "cells": [
  {
   "cell_type": "markdown",
   "metadata": {},
   "source": [
    "---\n",
    "toc: true\n",
    "comments: true\n",
    "layout: post\n",
    "title: Week 5 Plan\n",
    "description: This is where the week 5 plan is found\n",
    "courses: { csp: {week: 5} }\n",
    "type: plans\n",
    "---"
   ]
  },
  {
   "cell_type": "markdown",
   "metadata": {},
   "source": [
    "## Week 5 Plan\n",
    "\n",
    "\n",
    "## Tuesday\n",
    "\n",
    "Comlete Agile Manifesto, refresh knowledge on lists of iterations, then choose a program to start working on highlighting requirments in 1.3\n",
    "\n",
    "## Wednesday\n",
    "\n",
    "Start diagram of the program\n",
    "Complete preparations for recording, and figure out a way to send in recordings to edit the videwos together\n",
    "\n",
    "## Thursday\n",
    "\n",
    "Finish video by now and work on the agile team role flowchart\n",
    "\n",
    "## Friday\n",
    "\n",
    "Prepare for live review\n"
   ]
  }
 ],
 "metadata": {
  "language_info": {
   "name": "python"
  },
  "orig_nbformat": 4
 },
 "nbformat": 4,
 "nbformat_minor": 2
}
