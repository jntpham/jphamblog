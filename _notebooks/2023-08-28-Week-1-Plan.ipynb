{
 "cells": [
  {
   "cell_type": "markdown",
   "metadata": {},
   "source": [
    "---\n",
    "toc: true\n",
    "comments: true\n",
    "layout: post\n",
    "title: Week 1 Plan and Lab Notebook\n",
    "description: This is where the week 1 notebook and plan goes\n",
    "courses: { csp: {week: 1} }\n",
    "type: hacks\n",
    "---"
   ]
  },
  {
   "cell_type": "markdown",
   "metadata": {},
   "source": [
    "## Week 1 Notebook\n",
    "Jordan's daily updates\n",
    "\n",
    "8/23/23\n",
    "Finally got the blog up and connected with github\n",
    "Still have to iron out issues with the designs of the webpage and installing the rest of the CS pages\n",
    "\n",
    "8/24/23\n",
    "Created an introduction section within the home page\n",
    "Experimenting with different themes\n",
    "\n",
    "8/25/23\n",
    "Problems with the theme, working on getting the page formats working properly."
   ]
  }
 ],
 "metadata": {
  "language_info": {
   "name": "python"
  },
  "orig_nbformat": 4
 },
 "nbformat": 4,
 "nbformat_minor": 2
}
