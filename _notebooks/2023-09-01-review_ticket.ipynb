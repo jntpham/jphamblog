{
 "cells": [
  {
   "cell_type": "markdown",
   "metadata": {},
   "source": [
    "---\n",
    "\n",
    "toc: true\n",
    "comments: true\n",
    "layout: post\n",
    "title: Review \n",
    "description: Summary of points to hit during the showcase\n",
    "courses: { csp: {week: 3} }\n",
    "type: tangibles\n",
    "comments: True\n",
    "---"
   ]
  },
  {
   "cell_type": "markdown",
   "metadata": {},
   "source": [
    "### Summary of Accomplishments\n",
    "Linux Interaction:\n",
    "Python Interaction: Updated and fixed the orginal Python quiz to keep track of points and giving people the chance to try again on a question until they get it right!\n",
    "Javascript: Pulled data from wikpedia into a comprehensive table of stuff"
   ]
  }
 ],
 "metadata": {
  "language_info": {
   "name": "python"
  },
  "orig_nbformat": 4
 },
 "nbformat": 4,
 "nbformat_minor": 2
}
