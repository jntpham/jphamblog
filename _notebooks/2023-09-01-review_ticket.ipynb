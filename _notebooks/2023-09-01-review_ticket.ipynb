{
 "cells": [
  {
   "cell_type": "markdown",
   "metadata": {},
   "source": [
    "---\n",
    "\n",
    "toc: true\n",
    "comments: true\n",
    "layout: post\n",
    "title: Python Quiz I guess\n",
    "description: This is a python quiz\n",
    "courses: { csp: {week: 2} }\n",
    "type: tangibles\n",
    "\n",
    "---"
   ]
  }
 ],
 "metadata": {
  "language_info": {
   "name": "python"
  },
  "orig_nbformat": 4
 },
 "nbformat": 4,
 "nbformat_minor": 2
}
