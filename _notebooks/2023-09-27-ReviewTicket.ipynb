{
 "cells": [
  {
   "cell_type": "markdown",
   "metadata": {},
   "source": [
    "---\n",
    "toc: true\n",
    "comments: true\n",
    "layout: post\n",
    "title: Review Ticket for Test\n",
    "description: Self, Peer, Team Grade of the Test\n",
    "courses: { csp: {week: 5} }\n",
    "type: tangibles\n",
    "---"
   ]
  },
  {
   "cell_type": "markdown",
   "metadata": {},
   "source": [
    "## Self Grade of Test\n",
    "\n",
    "HTML: 0.45\n",
    "JS with datatypes: 0.45\n",
    "JS with HTML: 0.45\n",
    "JS: 0.46\n",
    "Corrections: 0.45\n",
    "Organization: 1\n",
    "Reveiw Ticket: 0.4\n",
    "## Peer Grade\n",
    "Didn't finish to grade\n",
    "## Team Grade\n",
    "Didn't finish to grade"
   ]
  },
  {
   "cell_type": "markdown",
   "metadata": {},
   "source": []
  }
 ],
 "metadata": {
  "language_info": {
   "name": "python"
  },
  "orig_nbformat": 4
 },
 "nbformat": 4,
 "nbformat_minor": 2
}
