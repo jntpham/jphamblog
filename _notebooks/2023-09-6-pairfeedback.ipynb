{
 "cells": [
  {
   "cell_type": "markdown",
   "metadata": {},
   "source": [
    "---\n",
    "toc: true\n",
    "comments: true\n",
    "layout: post\n",
    "title: Pair Feedback\n",
    "description: ChatGPT and peer review comments go here\n",
    "courses: { csp: {week: 3} }\n",
    "type: hacks\n",
    "---"
   ]
  },
  {
   "cell_type": "markdown",
   "metadata": {},
   "source": [
    "## Peer Review of the Plan and Code\n",
    "### I reviewed and improved code using Chat GPT\n",
    "https://chat.openai.com/share/91154733-58b3-490d-a964-ea6f7edbe796\n"
   ]
  },
  {
   "cell_type": "markdown",
   "metadata": {},
   "source": []
  }
 ],
 "metadata": {
  "language_info": {
   "name": "python"
  },
  "orig_nbformat": 4
 },
 "nbformat": 4,
 "nbformat_minor": 2
}
