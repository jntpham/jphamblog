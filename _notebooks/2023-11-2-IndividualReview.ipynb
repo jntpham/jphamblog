{
 "cells": [
  {
   "cell_type": "markdown",
   "metadata": {},
   "source": [
    "---\n",
    "toc: true\n",
    "comments: true\n",
    "layout: post\n",
    "title: Individual Review\n",
    "description: All the stuff for individual review goes here\n",
    "courses: { csp: {week: 11} }\n",
    "type: tangibles\n",
    "---"
   ]
  },
  {
   "cell_type": "markdown",
   "metadata": {},
   "source": [
    "### Stuff to hit\n",
    "CODE: \n",
    "1. AWS deployment struggles and reworking\n",
    "2. Few application organization(Matching tabs and such) + Merge conflicts\n",
    "3. API experiments and finalization of Movie Database\n",
    "\n",
    "BLOG:\n",
    "1. Show how student lessons are organized and how refer to materials to studying (highlight pseudocode)\n",
    "2. Plans for collegeboard quiz notes\n",
    "3. Reflection"
   ]
  },
  {
   "cell_type": "markdown",
   "metadata": {},
   "source": [
    "### CODE ISSUES\n",
    "\n",
    "1. AWS DEPLOYMENT\n",
    "\n",
    "When firsting booting up this project, my first task was to get the Flask backend working on localhost on dockerps, then deployed fully on AWS. This took quite a while, because I couldn't configure the ports to match the new registered port on ec2 instance.\n",
    "\n",
    "<img src=\"/home/jntpm/vscode/jphamblog/images/Screenshot 2023-11-02 162605.png\">\n"
   ]
  },
  {
   "cell_type": "markdown",
   "metadata": {},
   "source": [
    "Eventually, I registered with the right port on Route 53 and AWS and moved on verifying the website with NGINX. "
   ]
  },
  {
   "cell_type": "markdown",
   "metadata": {},
   "source": [
    "I cannot find the NGINX file that I had problems with, but I spent all of time combing through the AWS deployment instructions to solve the issues with the NGINX config file. This took about half the week to resolve and backend works now locally and on AWS (at the time of writing)."
   ]
  },
  {
   "cell_type": "markdown",
   "metadata": {},
   "source": [
    "2. MERGE CONFLICTS\n",
    "\n",
    "After finishing deployment, I worked on the frontend matter, such as tidying up the pages and organizing the APIs to the proper categories.\n",
    "\n",
    "<img src=\"/home/jntpm/vscode/jphamblog/images/Screenshot 2023-11-02 214634.png\">"
   ]
  },
  {
   "cell_type": "markdown",
   "metadata": {},
   "source": [
    "However, when working on the Python Lessons, I ran into save and merge issues, as there was a lot of people commiting and pushing at the same time. It turns out that my save was also not functional, which hampered my progress with the assignment.\n",
    "\n",
    "<img src=\"/home/jntpm/vscode/jphamblog/images/Screenshot 2023-11-02 221358.png\">\n",
    "<img src=\"/home/jntpm/vscode/jphamblog/images/Screenshot 2023-11-02 214634.png\">"
   ]
  },
  {
   "cell_type": "markdown",
   "metadata": {},
   "source": [
    "Fortunately, the merge issues got cleared up once I got the hang of it, the python libraries assignment as completed to schedule.\n",
    "\n",
    "<img src=\"/home/jntpm/vscode/jphamblog/images/Screenshot 2023-11-02 220156.png\">"
   ]
  },
  {
   "cell_type": "markdown",
   "metadata": {},
   "source": [
    "3. API EXPERIMENTS\n",
    "\n",
    "I worked on experimenting with different API calling applications similar to the javascript API requests we have. This API was the first attempt to replicate that process, first using Deezer."
   ]
  },
  {
   "cell_type": "code",
   "execution_count": null,
   "metadata": {},
   "outputs": [],
   "source": [
    "from flask import Flask, jsonify\n",
    "import requests\n",
    "\n",
    "app = Flask(__name)\n",
    "\n",
    "@app.route('/top-songs', methods=['GET'])\n",
    "def get_top_songs():\n",
    "    deezer_api_key = 'YOUR_DEEZER_API_KEY'\n",
    "    headers = {\n",
    "        'X-RapidAPI-Key': deezer_api_key\n",
    "    }\n",
    "\n",
    "    response = requests.get('https://api.deezer.com/chart/0/tracks', headers=headers)\n",
    "\n",
    "    if response.status_code == 200:\n",
    "        top_10_songs = response.json()\n",
    "        return jsonify(top_10_songs)\n",
    "    else:\n",
    "        return \"Error: Unable to retrieve data.\"\n",
    "\n",
    "if __name__ == '__main__':\n",
    "    app.run()\n",
    "\n",
    "\n"
   ]
  },
  {
   "cell_type": "markdown",
   "metadata": {},
   "source": [
    "This API uses GET function to request Deezer for data, which it allows by the API Key under the function get_top_songs. Deezer then retrieves data, specifically the top 10 songs at the time of the request. Unfortunately, I needed to get permission to use Deezer API keys they have, and I didn't want to fill out a lengthy application agreeing to the terms and conditions using the key. Thus, I turned to Spotify and Shazam to utilize a Rapid API key."
   ]
  },
  {
   "cell_type": "code",
   "execution_count": null,
   "metadata": {},
   "outputs": [],
   "source": [
    "import requests\n",
    "\n",
    "def fetch_songs_by_artist_genre(artist, genre):\n",
    "    url = \"https://shazam.p.rapidapi.com/artists/get-top-songs\"\n",
    "\n",
    "    querystring = {\"id\":\"567072\",\"l\":\"en-US\"}\n",
    "\n",
    "    headers = {\n",
    "        \"X-RapidAPI-Key\": \"50ed2e0992msh34f550a1d72fefcp1ecc97jsn139df4f8c488\",\n",
    "\t    \"X-RapidAPI-Host\": \"shazam.p.rapidapi.com\"\n",
    "    }\n",
    "\n",
    "    params = {\n",
    "        \"artist\": artist,\n",
    "        \"genre\": genre,\n",
    "    }\n",
    "\n",
    "    try:\n",
    "        response = requests.get(url, headers=headers, params=params)\n",
    "\n",
    "        if response.status_code == 200:\n",
    "            data = response.json()\n",
    "            songs = data.get(\"tracks\", {}).get(\"hits\", [])\n",
    "\n",
    "            return songs\n",
    "        else:\n",
    "            print('Failed to fetch songs. Status code:', response.status_code)\n",
    "            return None\n",
    "    except Exception as e:\n",
    "        print('An error occurred:', str(e))\n",
    "        return None\n",
    "\n",
    "# Example usage\n",
    "artist_name = input(\"Enter the artist's name: \")\n",
    "genre = input(\"Enter the genre: \")\n",
    "\n",
    "songs = fetch_songs_by_artist_genre(artist_name, genre)\n",
    "\n",
    "if songs:\n",
    "    print(f\"Songs by {artist_name} in the {genre} genre:\")\n",
    "    for song in songs:\n",
    "        print(f\"Title: {song.get('track', {}).get('title', 'N/A')}, Length: {song.get('track', {}).get('duration', 'N/A')} seconds\")\n",
    "else:\n",
    "    print(\"No songs found.\")"
   ]
  },
  {
   "cell_type": "markdown",
   "metadata": {},
   "source": [
    "This API uses Shazam to fetch. songs by artist and genre, which is dictated by the user in a python snippet. Once the song is fetched from Shazam through RapidAPI (through a GET request), the program would display the track, title and duration in seconds. Instead of tucking the key in vairable called API Key, this uses a RapidAPI Key for Shazam, which I got and it is placed under RapidAPI headers containing the key and the host."
   ]
  },
  {
   "cell_type": "markdown",
   "metadata": {},
   "source": [
    "These APIs originate from RapidApi, which I actually got one of the keys from shazam from. Unfortuntely, it got leaked and I didn't go through with the in fear that the project might be hijacked and ruin the entire backend. While thinking aobut what to do for the backend, one of my group members suggested creating database using SQLite to store favorited movies from a movie search service. In the span of 3 days, we worked on database to reach these goals."
   ]
  },
  {
   "cell_type": "code",
   "execution_count": null,
   "metadata": {},
   "outputs": [],
   "source": [
    "from flask_cors import CORS\n",
    "from flask import Flask, request, jsonify\n",
    "import sqlite3\n",
    "\n",
    "app = Flask(__name__)\n",
    "\n",
    "DATABASE = 'movies.db'\n",
    "\n",
    "\n",
    "@app.route('/favorites', methods=['POST'])\n",
    "def add_favorite():\n",
    "    movie_data = request.get_json()\n",
    "    title = movie_data.get('title')\n",
    "    release_date = movie_data.get('release_date')\n",
    "    rating = movie_data.get('rating')\n",
    "\n",
    "    with sqlite3.connect(DATABASE) as conn:\n",
    "        cursor = conn.cursor()\n",
    "        cursor.execute(\"INSERT INTO favorites (title, release_date, rating) VALUES (?, ?, ?)\", (title, release_date, rating))\n",
    "        conn.commit()\n",
    "        conn.close()\n",
    "\n",
    "        return jsonify({\"message\": \"Movie added to favorites\"}), 201\n",
    "\n",
    "if __name__ == '__main__':\n",
    "    app.run(debug=True)\n"
   ]
  },
  {
   "cell_type": "markdown",
   "metadata": {},
   "source": [
    "<html>\n",
    "<head>\n",
    "    <title>Movie Details</title>\n",
    "</head>\n",
    "\n",
    "<body>\n",
    "    <h1>Movie Details</h1>\n",
    "\n",
    "    <label for=\"actorName\">Actor's Name:</label>\n",
    "    <input type=\"text\" id=\"actorName\" placeholder=\"Enter actor's name\">\n",
    "\n",
    "    <label for=\"genre\">Genre:</label>\n",
    "    <select id=\"genre\">\n",
    "        <option value=\"\">All Genres</option> <!-- Add an option to select all genres -->\n",
    "        <option value=\"horror\">Horror</option>\n",
    "        <option value=\"comedy\">Comedy</option>\n",
    "        <option value=\"action\">Action</option>\n",
    "        <option value=\"thriller\">Thriller</option>\n",
    "    </select>\n",
    "\n",
    "    <button type=\"button\" onclick=\"getMovieDetails()\">Get Movie Details</button>\n",
    "\n",
    "    <h2>Movie:</h2>\n",
    "    <ul id=\"movieDetails\"></ul>"
   ]
  },
  {
   "cell_type": "markdown",
   "metadata": {},
   "source": [
    "This is the front matter supporting the backend code. This structure helps to display given by the API and sorts them into categories the user can interact with, such as the 4 genres and also including an option to sort by all movies (ALSO by ACTOR) Plus, there is a favorite button to sort any of the movies in the generated list into a separate category, called favorited movies. However, these need a backend to communicate with websites to fetch the data and also store the avorited movies in the database."
   ]
  },
  {
   "cell_type": "code",
   "execution_count": null,
   "metadata": {
    "vscode": {
     "languageId": "javascript"
    }
   },
   "outputs": [],
   "source": [
    "  const apiKey = 'bd74380ad0f3a6bc2db537543036493a'; // Replace with your actual API key\n",
    "\n",
    "        function getMovieDetails() {\n",
    "            const actorName = document.getElementById('actorName').value;\n",
    "            const genre = document.getElementById('genre').value;\n",
    "            let apiUrl = `https://api.themoviedb.org/3/search/movie?api_key=${apiKey}&query=${actorName}`;\n",
    "            // If a genre is selected, add it to the API URL\n",
    "            if (genre) {\n",
    "                apiUrl += `&with_genres=${genre}`;\n",
    "            }\n",
    "\n",
    "            fetch(apiUrl)\n",
    "                .then(response => response.json())\n",
    "                .then(data => {\n",
    "                    const movies = data.results;\n",
    "                    const movieDetailsList = document.getElementById('movieDetails');\n",
    "                    movieDetailsList.innerHTML = '';\n",
    "\n",
    "                    movies.forEach(movie => {\n",
    "                        const movieTitle = movie.title;\n",
    "                        const releaseDate = movie.release_date ? new Date(movie.release_date).getFullYear() : 'N/A';\n",
    "                        const rating = movie.vote_average || 'N/A';\n",
    "                        const listItem = document.createElement('li');\n",
    "                        listItem.innerHTML = `${movieTitle} (Release Date: ${releaseDate}, Rating: ${rating}/10) \n",
    "                                              <button onclick=\"addFavorite('${movieTitle}', '${releaseDate}', '${rating}')\">Favorite</button>`;\n",
    "                        movieDetailsList.appendChild(listItem);\n",
    "                    });\n",
    "                })\n",
    "                .catch(error => console.error('Error:', error));"
   ]
  },
  {
   "cell_type": "markdown",
   "metadata": {},
   "source": [
    "As you can, it requests using the api key to the backend GET Request, receiving information on the date, title, and genre, allowing the rest of the code to feed into the checkbox for the user to interact and select from."
   ]
  },
  {
   "cell_type": "markdown",
   "metadata": {},
   "source": [
    "### PSEUDOCODE NOTES\n",
    "\n",
    "Do peseudocode examples of libraries"
   ]
  },
  {
   "cell_type": "markdown",
   "metadata": {},
   "source": [
    "### BLOG PLANS\n",
    "\n"
   ]
  },
  {
   "cell_type": "markdown",
   "metadata": {},
   "source": [
    "### COLLEGEBOARD MCQ PRACTICE\n",
    "\n",
    "Cryptography: Private and public keys\n",
    "Searched up IPv6 vs IPv4 and how many addresses can exist within each system\n"
   ]
  },
  {
   "cell_type": "markdown",
   "metadata": {},
   "source": [
    "### REFLECTION"
   ]
  }
 ],
 "metadata": {
  "language_info": {
   "name": "python"
  },
  "orig_nbformat": 4
 },
 "nbformat": 4,
 "nbformat_minor": 2
}
