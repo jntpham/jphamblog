{
 "cells": [
  {
   "cell_type": "markdown",
   "metadata": {},
   "source": [
    "---\n",
    "toc: true\n",
    "comments: true\n",
    "layout: post\n",
    "title: Individual Review\n",
    "description: All the stuff for individual review goes here\n",
    "courses: { csp: {week: 9} }\n",
    "type: tangibles\n",
    "---"
   ]
  },
  {
   "cell_type": "markdown",
   "metadata": {},
   "source": [
    "### Stuff to hit\n",
    "CODE: \n",
    "1. AWS deployment struggles and reworking\n",
    "2. Few application organization(Matching tabs and such) + Merge conflicts\n",
    "3. API experiments and finalization of Movie Database\n",
    "\n",
    "BLOG:\n",
    "1. Show how student lessons are organized and how refer to materials to studying (highlight pseudocode)\n",
    "2. Plans for collegeboard quiz notes\n",
    "3. Reflection"
   ]
  },
  {
   "cell_type": "markdown",
   "metadata": {},
   "source": [
    "### CODE ISSUES\n",
    "\n",
    "1. AWS DEPLOYMENT\n",
    "\n",
    "When firsting booting up this project, my first task was to get the Flask backend working on localhost on dockerps, then deployed fully on AWS. This took quite a while, because I couldn't configure the ports to match the new registered port on ec2 instance.\n",
    "\n",
    "<img src=\"/home/jntpm/vscode/jphamblog/images/Screenshot 2023-11-02 162605.png\">\n"
   ]
  },
  {
   "cell_type": "markdown",
   "metadata": {},
   "source": [
    "Eventually, I registered with the right port on Route 53 and AWS and moved on verifying the website with NGINX. "
   ]
  },
  {
   "cell_type": "markdown",
   "metadata": {},
   "source": [
    "I cannot find the NGINX file that I had problems with, but I spent all of time combing through the AWS deployment instructions to solve the issues with the NGINX config file. This took about half the week to resolve and backend works now locally and on AWS (at the time of writing)."
   ]
  },
  {
   "cell_type": "markdown",
   "metadata": {},
   "source": [
    "2. MERGE CONFLICTS\n",
    "\n",
    "After finishing deployment, I worked on the frontend matter, such as tidying up the pages and organizing the APIs to the proper categories.\n",
    "\n",
    "<img src=\"/home/jntpm/vscode/jphamblog/images/Screenshot 2023-11-02 214634.png\">"
   ]
  },
  {
   "cell_type": "markdown",
   "metadata": {},
   "source": [
    "However, when working on the Python Lessons, I ran into save and merge issues,"
   ]
  }
 ],
 "metadata": {
  "language_info": {
   "name": "python"
  },
  "orig_nbformat": 4
 },
 "nbformat": 4,
 "nbformat_minor": 2
}
