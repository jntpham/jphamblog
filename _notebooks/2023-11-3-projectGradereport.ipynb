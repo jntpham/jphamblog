{
 "cells": [
  {
   "cell_type": "markdown",
   "metadata": {},
   "source": [
    "### Some Notes on the Project Grade\n",
    "\n",
    "Honestly, I'm suprised and proud that our team got the grade we got.\n",
    "\n",
    "- Even with other programs with superior features and programs, our project's features were interesting enough to draw attention\n",
    "- Although there was some team friction, especially with cooperation after school and meeting deadlines, there were several occasions that the tea pulled together to create some cool stuff (Also the different code names was a great agile/team feature)\n",
    "- Cool theme; appealed well to the features and was consistent across the whole program\n",
    "\n",
    "Considering the progress at the start, we have come a long from being a minimilist group to a team who is willing to pursue our visions to the fullest againist the odds.\n",
    "\n",
    "Overall, the grade we got is representative of the team's effort over the last 3 weeks."
   ]
  },
  {
   "cell_type": "markdown",
   "metadata": {},
   "source": [
    "---\n",
    "toc: true\n",
    "comments: true\n",
    "layout: post\n",
    "title: PP Reflections on the Project\n",
    "description: All the stuff for individual review goes here\n",
    "courses: { csp: {week: 11} }\n",
    "type: tangibles\n",
    "---"
   ]
  }
 ],
 "metadata": {
  "language_info": {
   "name": "python"
  }
 },
 "nbformat": 4,
 "nbformat_minor": 2
}
