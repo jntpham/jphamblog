{
 "cells": [
  {
   "cell_type": "markdown",
   "metadata": {},
   "source": [
    "---\n",
    "toc: true\n",
    "comments: true\n",
    "layout: post\n",
    "title: Collegeboard MCQ 2\n",
    "description: All stuff for MCQ in here(Corrections and journal)\n",
    "courses: { csp: {week: 17} }\n",
    "type: plans\n",
    "---"
   ]
  },
  {
   "cell_type": "markdown",
   "metadata": {},
   "source": [
    "### Going into the Quiz\n",
    "\n",
    "Since the last quiz, I gained a lot of experience from that, especially through the numeroud team teaches we had in the last 4 weeks. Although I did much better on this quiz, there is some questions I struggled with, mostly to fatigue or not reading the whole question correctly."
   ]
  },
  {
   "cell_type": "markdown",
   "metadata": {},
   "source": [
    "## Q15: Which of the following best compares the values displayed by programs A and B?\n",
    "WRONG: A and B display the same values in different orders\n",
    "Correct: Identical values and orders\n",
    "\n",
    "Didn't notice in the while loop, the display and the operation were flipped, so the # was added before displaying the value.\n",
    "\n",
    "## Q28: Assume that the variables alpha and beta each are initialized with a numeric value. Which of the following code segments can be used to interchange the values of alpha and beta using the temporary variable temp ?\n",
    "WRONG: I and II\n",
    "Correct: I and III\n",
    "\n",
    "The code layout was confusing and as a result, I didn't know that it asked for code that subs both terms for temp, which would have made things a lot easier.\n",
    "\n",
    "## Q29: Which scenario uses lossless compression?\n",
    "WRONG: Device transmits audio as is\n",
    "Correct: Compress for sending, then restores it to the original.\n",
    "\n",
    "In retrospect, I didn't relalize this answer option existed, as the answer I chose I thought was right as lossless kepted all of the data, but thinking into it, there is no compression at all.\n"
   ]
  }
 ],
 "metadata": {
  "language_info": {
   "name": "python"
  }
 },
 "nbformat": 4,
 "nbformat_minor": 2
}
