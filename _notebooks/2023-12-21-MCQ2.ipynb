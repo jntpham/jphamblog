{
 "cells": [
  {
   "cell_type": "markdown",
   "metadata": {},
   "source": [
    "---\n",
    "toc: true\n",
    "comments: true\n",
    "layout: post\n",
    "title: Collegeboard MCQ 2\n",
    "description: All stuff for MCQ in here(Corrections and journal)\n",
    "courses: { csp: {week: 17} }\n",
    "type: plans\n",
    "---"
   ]
  },
  {
   "cell_type": "markdown",
   "metadata": {},
   "source": [
    "### Going into the Quiz\n",
    "\n",
    "Since the last quiz, I gained a lot of experience from that, especially through the numeroud team teaches we had in the last 4 weeks. Although I did much better on this quiz, there is some questions I struggled with, mostly to fatigue or not reading the whole question correctly."
   ]
  },
  {
   "cell_type": "markdown",
   "metadata": {},
   "source": [
    "## Q15: Which of the following best compares the values displayed by programs A and B?\n",
    "WRONG: A and B display the same values in different orders\n",
    "Correct: Identical values and orders\n",
    "\n",
    "Didn't notice in the while loop, the display and the operation were flipped, so the # was added before displaying the value.\n",
    "\n",
    "## Q28: Assume that the variables alpha and beta each are initialized with a numeric value. Which of the following code segments can be used to interchange the values of alpha and beta using the temporary variable temp ?\n",
    "WRONG: I and II\n",
    "Correct: I and III\n",
    "\n",
    "The code layout was confusing and as a result, I didn't know that it asked for code that subs both terms for temp, which would have made things a lot easier.\n",
    "\n",
    "## Q29: Which scenario uses lossless compression?\n",
    "WRONG: Device transmits audio as is\n",
    "Correct: Compress for sending, then restores it to the original.\n",
    "\n",
    "In retrospect, I didn't relalize this answer option existed, as the answer I chose I thought was right as lossless kepted all of the data, but thinking into it, there is no compression at all.\n",
    "\n",
    "## Q34: Which of the following code segments will move the robot to the gray square along the path indicated by the arrows?\n",
    "WRONG: 3,1,0\n",
    "Correct: 1,3,0\n",
    "\n",
    "I saw two x's in the problem, which I thought the boxes corresponded with the answer bank, which I found out the # of procedures had nothing to do with the answers. The answers only shows the amount of turns the robot does in each call of the procedure.\n",
    "\n",
    "## Q37: Drawing Line on a Coordinate Grid\n",
    "WRONG: DrawLine (startX, startY, endX, endY)\n",
    "endX \n",
    " endX - 2\n",
    "endY \n",
    " endY - 2\n",
    "Correct: DrawLine (startX, startY, endX, endY)\n",
    "endY \n",
    " endY - 2\n",
    "\n",
    "I should of recognized this as a loop/iteration, because the code is changing based on the end values, which the end x is never changing, and the end y is lowering by 2 every iteration. \n",
    "\n",
    "## Q67: For which of the following code segments will the call to NumOccurrences NOT return the intended value?\n",
    "WRONG: treeList = \"birch\", \"maple\", \"oak\"\n",
    "numOccurances = treeList, \"oak\"\n",
    "treeList = \"birch\", \"maple\", \"oak\"\n",
    "numOccurances = treeList, \"spruce\"\n",
    "Correct: treeList = \"birch\", \"maple\", \"birch\"\n",
    "numOccurances = treeList, \"birch\"\n",
    "treeList = \"birch\", \"maple\", \"birch\"\n",
    "numOccurances = treeList, \"maple\"\n",
    "\n",
    "Didn't notice the count always resets to 0 when the code moves to the next element, which prevents the program from counting the number of identical elements in the whole list. This was the last question, so fatigue was really getting to me."
   ]
  }
 ],
 "metadata": {
  "language_info": {
   "name": "python"
  }
 },
 "nbformat": 4,
 "nbformat_minor": 2
}
