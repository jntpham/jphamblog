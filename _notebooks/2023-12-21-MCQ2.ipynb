{
 "cells": [
  {
   "cell_type": "markdown",
   "metadata": {},
   "source": [
    "---\n",
    "toc: true\n",
    "comments: true\n",
    "layout: post\n",
    "title: Collegeboard MCQ 2\n",
    "description: All stuff for MCQ in here(Corrections and journal)\n",
    "courses: { csp: {week: 17} }\n",
    "type: plans\n",
    "---"
   ]
  },
  {
   "cell_type": "markdown",
   "metadata": {},
   "source": [
    "### Going into the Quiz\n",
    "\n",
    "Since the last quiz, I gained a lot of experience from that, especially through the numeroud team teaches we had in the last 4 weeks. Although I did much better on this quiz, there is some questions I struggled with, mostly to fatigue or not reading the whole question correctly."
   ]
  }
 ],
 "metadata": {
  "language_info": {
   "name": "python"
  }
 },
 "nbformat": 4,
 "nbformat_minor": 2
}
