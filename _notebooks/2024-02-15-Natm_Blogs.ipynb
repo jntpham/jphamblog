{
 "cells": [
  {
   "cell_type": "markdown",
   "metadata": {},
   "source": [
    "---\n",
    "toc: true\n",
    "comments: true\n",
    "layout: post\n",
    "title: Night of the Museum BLog Reflection\n",
    "description: All stuff for MCQ in here(Corrections and journal)\n",
    "courses: { csp: {week: 23} }\n",
    "type: tangibles\n",
    "---"
   ]
  },
  {
   "cell_type": "markdown",
   "metadata": {},
   "source": [
    "### Team Reflection\n",
    "\n",
    "Glows: As a team, we have taken on an ambitious project, which if we were only going for the grade in class, would have never done. We also good user friendly features like photo editing, which adds value to the project.\n",
    "\n",
    "- Got done an impressive amount of features, like photo editing and a customizable gallery for every user\n",
    "\n",
    "Grows: The team's effort was disjointed and not up to pace, as the devlopment of the frontend went much faster than the development of the backend. Plus, most of the project was reliant on a single individual, which meant if the coder was gone, the project's development would slow down.\n",
    "\n",
    "- JWT, image transfer, and sign up isn't working\n",
    "\n",
    "Something that I would add to CPT is a functional purpose for the redirect page. We could add some addtional options for where the user can redirect their page, bascially allowing the user to customize their home page and adding features to supplement it.\n"
   ]
  },
  {
   "cell_type": "markdown",
   "metadata": {},
   "source": [
    "Photos of a group I interviewed with\n",
    "\n",
    "<img src= \"/jphamblog/images/IMG_8794.JPG\" width =\"504\" height = \"756\">\n",
    "<img src= \"/jphamblog/images/IMG_8795.JPG\" width =\"504\" height = \"756\">\n",
    "<img src= \"/jphamblog/images/IMG_8796.JPG\" width =\"504\" height = \"756\">\n",
    "<img src= \"/jphamblog/images/IMG_8798.JPG\" width =\"504\" height = \"756\">\n",
    "\n",
    "\n",
    "Link to images: \n",
    "Photo Room Gallery: https://docs.google.com/document/d/1ezM-Q7MhXZyyE4ndAlxspx2iNGkDlEK0r4_9zk5OIZE/edit?usp=sharing\n",
    "<img src= \"/jphamblog/images/IMG_8793.JPG\" width =\"756\" height = \"504\">\n"
   ]
  },
  {
   "cell_type": "markdown",
   "metadata": {},
   "source": [
    "Event: I saw a cool turn based video game, which is very similar to many rpg games/pokemon style games out there. It is more unique than the other programs I saw, like a stock market checker or a binary guesser game.\n",
    "\n",
    "In the photo room, I saw some cool stuff like La Jolla beach at night, many sunset, mountain landscapes, and interesting things like a cart that is selling brooms. Many of the photos have good asthetics and differing mathematical compositions, which I found to be fascinating. "
   ]
  }
 ],
 "metadata": {
  "language_info": {
   "name": "python"
  }
 },
 "nbformat": 4,
 "nbformat_minor": 2
}
