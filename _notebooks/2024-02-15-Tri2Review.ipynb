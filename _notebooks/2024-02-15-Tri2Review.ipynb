{
 "cells": [
  {
   "cell_type": "markdown",
   "metadata": {},
   "source": [
    "---\n",
    "toc: true\n",
    "comments: true\n",
    "layout: post\n",
    "title: Tri 2 Individual Review\n",
    "description: Stuff for the review\n",
    "courses: { csp: {week: 24} }\n",
    "type: tangibles\n",
    "---"
   ]
  },
  {
   "cell_type": "markdown",
   "metadata": {},
   "source": [
    "### Project Overview\n",
    "\n",
    "For our project, we decided to create an online photo drive, which users can log into their own custom site, which they can upload images in a gallery and even edit these photos.\n",
    "\n",
    "\n"
   ]
  },
  {
   "cell_type": "markdown",
   "metadata": {},
   "source": [
    "I created the login feature of the photo gallery, which allows each user to have their own custom image gallery.\n",
    "\n"
   ]
  },
  {
   "cell_type": "markdown",
   "metadata": {},
   "source": [
    "| **CB Requirements**                                                                                                                                                                                                          | **Avaliable?**                                                                                                                            |\n",
    "|------------------------------------------------------------------------------------------------------------------------------------------------------------------------------------------------------------------------------|-------------------------------------------------------------------------------------------------------------------------------------------|\n",
    "| Instructions for input from one of the following: the user, a device, an online datas stream, a file.                                                                                                                        | Yes, the user can log into the system                                                                                                     |\n",
    "| Use of at least one list (or other collection type) to represent a collection of data that is stored and used to manage program complexity and help fulfill the users purpose.                                               | Yes, SQLite table stores all of the user information for retrieval by the frontend                                                        |\n",
    "| At least one procedure that contributed to the program’s intended purpose where you have defined the name, return type, one or more parameters:                                                                              | Yes, program identifies and takes JWT tokens to verify login information of users                                                         |\n",
    "| An algorithm that includes sequencing, selection, and iteration that is in the body of the selected procedure.An algorithm that includes sequencing, selection, and iteration that is in the body of the selected procedure. | Yes, there is a procedure here to authenticate the user when they log in, and also another procedure to send the user to the desired site |\n",
    "| Calls to your student-developed prodcedure:                                                                                                                                                                                  | Yes: <img src= \"/jphamblog/images/LoginProcedure.png\" width =\"2080\" height = \"536\">                                                                  |\n",
    "| Instructions for output (tactile, audible, visual) based on input and program functionality                                                                                                                                  | Yes, after the user logs into the website, they are redirected to the gallery page.                                                       |\n",
    "\n",
    "\n"
   ]
  },
  {
   "cell_type": "markdown",
   "metadata": {},
   "source": [
    "### CollegeBaord Video"
   ]
  },
  {
   "cell_type": "markdown",
   "metadata": {},
   "source": [
    "| **CB Requirements**                                                                                                                                                                                                          | **Avaliable?**                                                                                                                            |\n",
    "|------------------------------------------------------------------------------------------------------------------------------------------------------------------------------------------------------------------------------|-------------------------------------------------------------------------------------------------------------------------------------------|\n",
    "| Instructions for input from one of the following: the user, a device, an online datas stream, a file.                                                                                                                        | Yes, the user can log into the system                                                                                                     |\n",
    "| Use of at least one list (or other collection type) to represent a collection of data that is stored and used to manage program complexity and help fulfill the users purpose.                                               | Yes, SQLite table stores all of the user information for retrieval by the frontend                                                        |\n",
    "| At least one procedure that contributed to the program’s intended purpose where you have defined the name, return type, one or more parameters:                                                                              | Yes, program identifies and takes JWT tokens to verify login information of users                                                         |\n",
    "| An algorithm that includes sequencing, selection, and iteration that is in the body of the selected procedure.An algorithm that includes sequencing, selection, and iteration that is in the body of the selected procedure. | Yes, there is a procedure here to authenticate the user when they log in, and also another procedure to send the user to the desired site |\n",
    "| Calls to your student-developed prodcedure:                                                                                                                                                                                  | Yes: ![Alt text](images/Login Procedure.png)                                                                                              |\n",
    "| Instructions for output (tactile, audible, visual) based on input and program functionality                                                                                                                                  | Yes, after the user logs into the website, they are redirected to the gallery page.                                                       |"
   ]
  }
 ],
 "metadata": {
  "language_info": {
   "name": "python"
  }
 },
 "nbformat": 4,
 "nbformat_minor": 2
}
