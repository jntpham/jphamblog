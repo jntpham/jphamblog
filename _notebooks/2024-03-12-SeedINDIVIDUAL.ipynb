{
 "cells": [
  {
   "cell_type": "markdown",
   "metadata": {},
   "source": [
    "---\n",
    "toc: true\n",
    "comments: true\n",
    "layout: post\n",
    "title: Individual Seed\n",
    "description: Stuff for Seed\n",
    "courses: { csp: {week: 28} }\n",
    "type: tangibles\n",
    "---"
   ]
  },
  {
   "cell_type": "markdown",
   "metadata": {},
   "source": [
    "### Project Studies\n",
    "\n",
    "AP Work Requirements: https://jntpham.github.io/jphamblog//2024/02/15/Tri2Review_IPYNB_2_.html\n",
    "\n",
    "Analytics: https://github.com/jntpham\n",
    "\n",
    "CB Quiz: https://jntpham.github.io/jphamblog//2023/12/21/MCQ2_IPYNB_2_.html\n",
    "\n",
    "<img src= \"/jphamblog/images/Screenshot 2024-03-12 212301.png\" width =\"1465\" height = \"968\">\n",
    "\n",
    "\n",
    "\n",
    "\n",
    "\n"
   ]
  },
  {
   "cell_type": "markdown",
   "metadata": {},
   "source": [
    "I created the login feature of the photo gallery, which allows each user to have their own custom image gallery.\n",
    "\n"
   ]
  }
 ],
 "metadata": {
  "language_info": {
   "name": "python"
  }
 },
 "nbformat": 4,
 "nbformat_minor": 2
}
