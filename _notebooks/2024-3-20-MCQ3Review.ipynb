{
 "cells": [
  {
   "cell_type": "markdown",
   "metadata": {},
   "source": [
    "---\n",
    "toc: true\n",
    "comments: true\n",
    "layout: post\n",
    "title: Collegeboard MCQ 3\n",
    "description: All stuff for MCQ in here(Corrections and journal)\n",
    "courses: { csp: {week: 26} }\n",
    "type: tangibles\n",
    "---"
   ]
  },
  {
   "cell_type": "markdown",
   "metadata": {},
   "source": [
    "### Before the quiz\n",
    "\n",
    "Since the last quiz, I was confident that I can replicate the same results I had on the previous MCQ. However, I'm quite slow at test taking, which meant that even though I had a 10 question headstart and 30 minutes extra to finish the quiz, I only got through 50 of the 70 questions. With that context, my score is still really good and comparable with my last MCQ. \n",
    "\n",
    "44/70 -----> 44/50\n",
    "44/50 = 62/70"
   ]
  },
  {
   "cell_type": "markdown",
   "metadata": {},
   "source": [
    "Q14:<img src= \"/jphamblog/images/Screenshot 2024-03-20 210910.png\" width =\"700\" height = \"400\">\n"
   ]
  },
  {
   "cell_type": "markdown",
   "metadata": {},
   "source": [
    "Looking at the code more carefully, I should have considered that when 2 < 1, false is going to be returned, and that is when the values are increasing (ie. count < count-1 (the previous value?)). Switching the numbers around would fix this issue altogether. "
   ]
  },
  {
   "cell_type": "markdown",
   "metadata": {},
   "source": [
    "Q25: <img src= \"/jphamblog/images/Screenshot 2024-03-20 213234.png\" width =\"700\" height = \"400\">"
   ]
  },
  {
   "cell_type": "markdown",
   "metadata": {},
   "source": [
    "I looked at r for the number of times the procedure should run instead of n. Also, if you look at the pattern and expand the numbers, each successive value is summing up and represented as a result. Or you could use process of elimination"
   ]
  },
  {
   "cell_type": "markdown",
   "metadata": {},
   "source": [
    "Q33:<img src= \"/jphamblog/images/Screenshot 2024-03-20 214317.png\" width =\"700\" height = \"400\">"
   ]
  },
  {
   "cell_type": "markdown",
   "metadata": {},
   "source": [
    "C was incorrect because n^2 run time is considered to be reasonable run time. The algorithms are not unsolvable problems and computer speed has nothing to do with solving the problems, so that means B is the only correct answer.\n",
    "\n",
    "Plus, heuristic = approximate solution in a reasonable time."
   ]
  },
  {
   "cell_type": "markdown",
   "metadata": {},
   "source": [
    "Note for Q42: # MOD 2 = # / 2 = #R(value)\n",
    "Ex: 5 MOD 1 = 0\n",
    "5 MOD 2 = 3"
   ]
  },
  {
   "cell_type": "markdown",
   "metadata": {},
   "source": [
    "Q52: Binary Searches\n",
    "<img src= \"/jphamblog/images/Screenshot 2024-03-20 220145.png\" width =\"800\" height = \"400\">"
   ]
  },
  {
   "cell_type": "markdown",
   "metadata": {},
   "source": [
    "When the question refers to elements, it meant the lists that algorithm observed everytime it was cut in half. I got confused on the terms and therefore said the binary search went though 64 \"lists\" I guess."
   ]
  },
  {
   "cell_type": "markdown",
   "metadata": {},
   "source": [
    "### REFLECTION\n",
    "Many of the questions I missed were procedure type questions, so I need to improve on my code reading skills and keep a critical eye when looking through the code."
   ]
  }
 ],
 "metadata": {
  "language_info": {
   "name": "python"
  }
 },
 "nbformat": 4,
 "nbformat_minor": 2
}
