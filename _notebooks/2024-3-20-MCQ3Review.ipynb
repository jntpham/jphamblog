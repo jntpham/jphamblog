{
 "cells": [
  {
   "cell_type": "markdown",
   "metadata": {},
   "source": [
    "---\n",
    "toc: true\n",
    "comments: true\n",
    "layout: post\n",
    "title: Collegeboard MCQ 3\n",
    "description: All stuff for MCQ in here(Corrections and journal)\n",
    "courses: { csp: {week: 26} }\n",
    "type: tangibles\n",
    "---"
   ]
  },
  {
   "cell_type": "markdown",
   "metadata": {},
   "source": [
    "### Before the quiz\n",
    "\n",
    "Since the last quiz, I was confident that I can replicate the same results I had on the previous MCQ. However, I'm quite slow at test taking, which meant that even though I had a 10 question headstart and 30 minutes extra to finish the quiz, I only got through 50 of the 70 questions. However, my score is still really good and comparable with my last MCQ. \n",
    "\n",
    "44/70 -----> 44/50\n",
    "44/50 = 62/70"
   ]
  },
  {
   "cell_type": "markdown",
   "metadata": {},
   "source": [
    "Q14:<img src= \"/jphamblog/images/Screenshot 2024-03-20 210910.png\" width =\"700\" height = \"400\">\n"
   ]
  }
 ],
 "metadata": {
  "language_info": {
   "name": "python"
  }
 },
 "nbformat": 4,
 "nbformat_minor": 2
}
