{
 "cells": [
  {
   "cell_type": "markdown",
   "metadata": {},
   "source": [
    "---\n",
    "toc: true\n",
    "comments: true\n",
    "layout: post\n",
    "title: Data Structures Writeup\n",
    "description: Data structures stuff\n",
    "courses: { csp: {week: 30} }\n",
    "type: tangibles\n",
    "---"
   ]
  },
  {
   "cell_type": "markdown",
   "metadata": {},
   "source": [
    "**Blog Python Model code and SQLite Database.**\n",
    " Show your unique collection/table in database, display rows and columns in the table of the SQLite database from VSCode using SQLite3 Editor.\n"
   ]
  },
  {
   "cell_type": "markdown",
   "metadata": {},
   "source": [
    "Q14:<img src= \"/jphamblog/images/Screenshot 2024-03-20 210910.png\" width =\"700\" height = \"400\">\n"
   ]
  },
  {
   "cell_type": "markdown",
   "metadata": {},
   "source": [
    "### Show your unique code that was created to initialize table and create test data from VSCode model."
   ]
  },
  {
   "cell_type": "markdown",
   "metadata": {},
   "source": [
    "### Show a list as extracted from database as Python objects in VSCode using Debugger."
   ]
  },
  {
   "cell_type": "markdown",
   "metadata": {},
   "source": [
    "### Show two distinct examples of dictionaries, show Keys/Values using debugger in VSCode."
   ]
  },
  {
   "cell_type": "markdown",
   "metadata": {},
   "source": [
    "###  Blog Python API code and use of Postman to request and respond with JSON."
   ]
  },
  {
   "cell_type": "markdown",
   "metadata": {},
   "source": [
    "### Show Python API code definition for request and response using GET, POST, UPDATE methods in VSCode. Discuss algorithmic condition used to direct request to appropriate Python method based on request method."
   ]
  },
  {
   "cell_type": "markdown",
   "metadata": {},
   "source": [
    "### Show algorithmic conditions used to validate data on a POST condition in VSCode.\n",
    "\n",
    "Under the self method, this checks the user id, name, and password when the user enters it into the field. This prevents any other garbage credentials from getting in as it refers back to the database with the read method and presents the data as JSON."
   ]
  },
  {
   "cell_type": "markdown",
   "metadata": {},
   "source": [
    "### Show URL request and Body requirements for GET, POST, and UPDATE methods in Postman."
   ]
  },
  {
   "cell_type": "markdown",
   "metadata": {},
   "source": [
    "### Show the JSON response data for 200 success conditions on GET, POST, and UPDATE methods in Postman.\n",
    "\n",
    "Get:\n",
    "\n",
    "Post:\n",
    "\n",
    "Update:"
   ]
  },
  {
   "cell_type": "markdown",
   "metadata": {},
   "source": [
    "### Show the JSON response for error for 400 when missing body on a POST request in Postman."
   ]
  },
  {
   "cell_type": "markdown",
   "metadata": {},
   "source": [
    "### Show the JSON response for error for 404 when providing an unknown user ID to a UPDATE request in Postman."
   ]
  },
  {
   "cell_type": "markdown",
   "metadata": {},
   "source": [
    "### Blog JavaScript API fetch code and formatting code to display JSON.\n",
    "\n",
    "### Show response of JSON objects from fetch of GET, POST, and UPDATE methods in Chrome inspect.\n",
    "\n"
   ]
  },
  {
   "cell_type": "markdown",
   "metadata": {},
   "source": [
    "### Show a demo (GET) of obtaining an Array of JSON objects that are formatted into the browsers screen in the Chrome browser.\n",
    "\n",
    "The other image above also has the initializations\n"
   ]
  },
  {
   "cell_type": "markdown",
   "metadata": {},
   "source": [
    "### Describe fetch and method that obtained the Array of JSON objects in JavaScript code.\n",
    "\n",
    "### Show code that performs iteration and formatting of data into HTML in JavaScript code."
   ]
  },
  {
   "cell_type": "markdown",
   "metadata": {},
   "source": [
    "### Show a demo (POST or UPDATE) gathering and sending input and receiving a response that show update. Repeat this demo showing both success and failure in the Chrome browser.\n",
    "\n",
    "https://drive.google.com/drive/u/0/folders/1WWPDneDeNavfMNFq3vf1J1MTC3PBiyk5?safe=active"
   ]
  },
  {
   "cell_type": "markdown",
   "metadata": {},
   "source": [
    "### Show and describe code that handles success. Describe how code shows success to the user in the Chrome Browser screen in JavaScript code."
   ]
  },
  {
   "cell_type": "markdown",
   "metadata": {},
   "source": [
    "### Show and describe code that handles failure. Describe how the code shows failure to the user in the Chrome Browser screen in JavaScript code."
   ]
  }
 ],
 "metadata": {
  "language_info": {
   "name": "python"
  }
 },
 "nbformat": 4,
 "nbformat_minor": 2
}
