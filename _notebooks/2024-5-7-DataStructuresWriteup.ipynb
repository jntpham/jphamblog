{
 "cells": [
  {
   "cell_type": "markdown",
   "metadata": {},
   "source": [
    "---\n",
    "toc: true\n",
    "comments: true\n",
    "layout: post\n",
    "title: Data Structures Writeup\n",
    "description: Data structures stuff\n",
    "courses: { csp: {week: 30} }\n",
    "type: tangibles\n",
    "---"
   ]
  },
  {
   "cell_type": "markdown",
   "metadata": {},
   "source": []
  },
  {
   "cell_type": "markdown",
   "metadata": {},
   "source": [
    "Q14:<img src= \"/jphamblog/images/Screenshot 2024-03-20 210910.png\" width =\"700\" height = \"400\">\n"
   ]
  },
  {
   "cell_type": "markdown",
   "metadata": {},
   "source": [
    "Q25: <img src= \"/jphamblog/images/Screenshot 2024-03-20 213234.png\" width =\"700\" height = \"400\">"
   ]
  },
  {
   "cell_type": "markdown",
   "metadata": {},
   "source": [
    "I looked at r for the number of times the procedure should run instead of n. Also, if you look at the pattern and expand the numbers, each successive value is summing up and represented as a result. Or you could use process of elimination"
   ]
  },
  {
   "cell_type": "markdown",
   "metadata": {},
   "source": [
    "Q33:<img src= \"/jphamblog/images/Screenshot 2024-03-20 214317.png\" width =\"700\" height = \"400\">"
   ]
  },
  {
   "cell_type": "markdown",
   "metadata": {},
   "source": [
    "C was incorrect because n^2 run time is considered to be reasonable run time. The algorithms are not unsolvable problems and computer speed has nothing to do with solving the problems, so that means B is the only correct answer.\n",
    "\n",
    "Plus, heuristic = approximate solution in a reasonable time."
   ]
  },
  {
   "cell_type": "markdown",
   "metadata": {},
   "source": [
    "Note for Q42: # MOD 2 = # / 2 = #R(value)\n",
    "Ex: 5 MOD 1 = 0\n",
    "5 MOD 2 = 3"
   ]
  },
  {
   "cell_type": "markdown",
   "metadata": {},
   "source": [
    "Q52: Binary Searches\n",
    "<img src= \"/jphamblog/images/Screenshot 2024-03-20 220145.png\" width =\"800\" height = \"400\">"
   ]
  }
 ],
 "metadata": {
  "language_info": {
   "name": "python"
  }
 },
 "nbformat": 4,
 "nbformat_minor": 2
}
