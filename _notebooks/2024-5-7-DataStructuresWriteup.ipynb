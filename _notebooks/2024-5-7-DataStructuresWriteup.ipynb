{
 "cells": [
  {
   "cell_type": "markdown",
   "metadata": {},
   "source": [
    "---\n",
    "toc: true\n",
    "comments: true\n",
    "layout: post\n",
    "title: Data Structures Writeup\n",
    "description: Data structures stuff\n",
    "courses: { csp: {week: 30} }\n",
    "type: tangibles\n",
    "---"
   ]
  },
  {
   "cell_type": "markdown",
   "metadata": {},
   "source": [
    "**Blog Python Model code and SQLite Database.**\n",
    " Show your unique collection/table in database, display rows and columns in the table of the SQLite database from VSCode using SQLite3 Editor.\n",
    "![Screenshot 2024-04-22 133914](https://github.com/jntpham/jphamblog/assets/108640762/1547e768-ef76-43a2-828a-9f1bda3136d8)"
   ]
  },
  {
   "cell_type": "markdown",
   "metadata": {},
   "source": [
    "### Show your unique code that was created to initialize table and create test data from VSCode model.\n",
    "![Screenshot 2024-04-22 134807](https://github.com/jntpham/jphamblog/assets/108640762/68e967fa-5f0c-4b87-b271-4e04181d693c)"
   ]
  },
  {
   "cell_type": "markdown",
   "metadata": {},
   "source": [
    "### Show a list as extracted from database as Python objects in VSCode using Debugger.\n",
    "![image](https://github.com/jntpham/jphamblog/assets/108640762/68355565-f122-46fe-9a5b-dfdc7e146342)"
   ]
  },
  {
   "cell_type": "markdown",
   "metadata": {},
   "source": [
    "### Show two distinct examples of dictionaries, show Keys/Values using debugger in VSCode.\n",
    "![image](https://github.com/jntpham/jphamblog/assets/108640762/c8cc65a0-7a34-4138-8347-e99e3d8f4eb1)"
   ]
  },
  {
   "cell_type": "markdown",
   "metadata": {},
   "source": [
    "###  Blog Python API code and use of Postman to request and respond with JSON.\n"
   ]
  },
  {
   "cell_type": "markdown",
   "metadata": {},
   "source": [
    "### Show Python API code definition for request and response using GET, POST, UPDATE methods in VSCode. Discuss algorithmic condition used to direct request to appropriate Python method based on request method.\n",
    "![image](https://github.com/jntpham/jphamblog/assets/108640762/d68c5e2f-dbb9-4aa3-9601-07733ce35b1d)"
   ]
  },
  {
   "cell_type": "markdown",
   "metadata": {},
   "source": [
    "### Show algorithmic conditions used to validate data on a POST condition in VSCode.\n",
    "\n",
    "Under the self method, this checks the user id, name, and password when the user enters it into the field. This prevents any other garbage credentials from getting in as it refers back to the database with the read method and presents the data as JSON.\n",
    "![image](https://github.com/jntpham/jphamblog/assets/108640762/807fd2fb-1e97-4c47-9f0d-7fc6d0204b3f)"
   ]
  },
  {
   "cell_type": "markdown",
   "metadata": {},
   "source": [
    "### Show URL request and Body requirements for GET, POST, and UPDATE methods in Postman.\n",
    "![image](https://github.com/jntpham/jphamblog/assets/108640762/42395234-30e0-420d-a87d-dcfcfd6a3b26)"
   ]
  },
  {
   "cell_type": "markdown",
   "metadata": {},
   "source": [
    "### Show the JSON response data for 200 success conditions on GET, POST, and UPDATE methods in Postman.\n",
    "\n",
    "\n",
    "- Get\n",
    "![image](https://github.com/jntpham/jphamblog/assets/108640762/46c750e2-dbec-471d-818c-e3ca4b4cfab9)\n",
    "\n",
    "- Post\n",
    "![image](https://github.com/jntpham/jphamblog/assets/108640762/a3680556-a01b-496e-83df-50a96f440948)\n",
    "\n",
    "- Update"
   ]
  },
  {
   "cell_type": "markdown",
   "metadata": {},
   "source": [
    "### Show the JSON response for error for 400 when missing body on a POST request in Postman.\n",
    "![image](https://github.com/jntpham/jphamblog/assets/108640762/80f579f7-2564-453c-9214-338f7ae2a4e5)"
   ]
  },
  {
   "cell_type": "markdown",
   "metadata": {},
   "source": [
    "### Show the JSON response for error for 404 when providing an unknown user ID to a UPDATE request in Postman.\n",
    "![image](https://github.com/jntpham/jphamblog/assets/108640762/725fdb29-0bf4-4c1b-ae37-5e264603571c)"
   ]
  },
  {
   "cell_type": "markdown",
   "metadata": {},
   "source": [
    "### Blog JavaScript API fetch code and formatting code to display JSON.\n",
    "\n",
    "### Show response of JSON objects from fetch of GET, POST, and UPDATE methods in Chrome inspect.\n",
    "![image](https://github.com/jntpham/jphamblog/assets/108640762/4dbf9624-ec62-4cbe-8faa-452a56ca77aa)\n"
   ]
  },
  {
   "cell_type": "markdown",
   "metadata": {},
   "source": [
    "### Show a demo (GET) of obtaining an Array of JSON objects that are formatted into the browsers screen in the Chrome browser.\n",
    "\n",
    "![image](https://github.com/jntpham/jphamblog/assets/108640762/1c6df913-cff3-4c71-adb1-e24e2b1cb6b1)\n",
    "The other image above also has the initializations\n"
   ]
  },
  {
   "cell_type": "markdown",
   "metadata": {},
   "source": [
    "### Describe fetch and method that obtained the Array of JSON objects in JavaScript code.\n",
    "\n",
    "### Show code that performs iteration and formatting of data into HTML in JavaScript code.\n",
    "![image](https://github.com/jntpham/jphamblog/assets/108640762/b6d2d00b-3dbc-4680-9bef-53f94f658cf3)\n"
   ]
  },
  {
   "cell_type": "markdown",
   "metadata": {},
   "source": [
    "### Show a demo (POST or UPDATE) gathering and sending input and receiving a response that show update. Repeat this demo showing both success and failure in the Chrome browser.\n",
    "\n",
    "https://drive.google.com/drive/u/0/folders/1WWPDneDeNavfMNFq3vf1J1MTC3PBiyk5?safe=active"
   ]
  },
  {
   "cell_type": "markdown",
   "metadata": {},
   "source": [
    "### Show and describe code that handles success. Describe how code shows success to the user in the Chrome Browser screen in JavaScript code.\n",
    "\n",
    "![image](https://github.com/jntpham/jphamblog/assets/108640762/cab97539-7d4e-4541-b8b7-339905bde414)"
   ]
  },
  {
   "cell_type": "markdown",
   "metadata": {},
   "source": [
    "### Show and describe code that handles failure. Describe how the code shows failure to the user in the Chrome Browser screen in JavaScript code.\n",
    "![image](https://github.com/jntpham/jphamblog/assets/108640762/a48b6044-2b8e-4460-87f2-b17ab4916f4d)"
   ]
  }
 ],
 "metadata": {
  "language_info": {
   "name": "python"
  }
 },
 "nbformat": 4,
 "nbformat_minor": 2
}
