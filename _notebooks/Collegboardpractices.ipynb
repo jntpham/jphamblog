{
 "cells": [
  {
   "cell_type": "markdown",
   "metadata": {},
   "source": [
    "---\n",
    "toc: true\n",
    "comments: true\n",
    "layout: post\n",
    "title: Collegeboard MCQ Practice\n",
    "description: All stuff for MCQ in here(Corrections and journal)\n",
    "courses: { csp: {week: 11} }\n",
    "type: plans\n",
    "---"
   ]
  },
  {
   "cell_type": "markdown",
   "metadata": {},
   "source": [
    "### COLLEGEBOARD MCQ PRACTICE\n",
    "\n",
    "Cryptography: Private and public keys\n",
    "Searched up IPv6 vs IPv4 and how many addresses can exist within each system\n",
    "Purpose of machine learning\n",
    "\n",
    "### CORRECTIONS\n",
    "\n",
    "Q9: Which of the following best describes one of the benefits of using an iterative process of program development?\n",
    "\n",
    "WRONG: It allows programmers to implement algorithmic solutions to otherwise unsolvable problems\n",
    "CORRECT: It helps programmers identify errors as components are added to a working program.\n",
    "\n",
    "I didn't realize that the questions is refering to an iterative process, not an algorithm. Otherwise, I may have misclicked on this question\n",
    "\n",
    "Q19: A library of e-books contains metadata for each book. The metadata are intended to help a search feature find books that users are interested in. Which of the following is LEAST likely to be contained in the metadata of each e-book?\n",
    "\n",
    "WRONG: The date the e-book was first published\n",
    "RIGHT: An archive containing previous versions of the e-book\n",
    "\n",
    "Thinking about it now, it makes sense that the people want the date of the book published, since like any piece of media (movie search), people may wnat to look for books in a certain year, rather than if there is previous versions of it, which is not as appealing to reader.\n",
    "\n",
    "Q22: A student is creating a procedure to determine whether the weather for a particular month was considered very hot. The procedure takes as input a list containing daily high temperatures for a particular month. The procedure is intended to return true if the daily high temperature was at least 90 degrees for a majority of days in the month and return false otherwise.\n",
    "\n",
    "Which of the following can be used to replace missing code so that the procedure works as intended?\n",
    "\n",
    "WRONG: total > 0.5 * counter\n",
    "RIGHT: counter > 0.5 * total\n",
    "\n",
    "I didn't read the question through enough, as a result accidently switched the total and counter varaibles around and forgto the 0.5 represents the 50% majority that is needed for the program to return true.\n",
    "\n",
    "Q24: For example, the string Open quotation, THIS_IS_THE_BEST_WISH can be encoded as %#_#%E_BEST_W#H\n",
    "\n",
    "TH = %\n",
    "IS = #\n",
    "\n",
    "Which of the following statements about byte pair encoding is true?\n",
    "\n",
    "WRONG: Byte pair encoding is an example of a lossy transformation because some pairs of characters are replaced by a single character.\n",
    "CORRECT:\n",
    "Byte pair encoding is an example of a lossless transformation because an encoded string can be restored to its original version.\n",
    "\n",
    "Forgot how lossy and lossless transformation works and therefore mixed up the definitions. If any character replaces with subsitutute, then"
   ]
  }
 ],
 "metadata": {
  "language_info": {
   "name": "python"
  }
 },
 "nbformat": 4,
 "nbformat_minor": 2
}
